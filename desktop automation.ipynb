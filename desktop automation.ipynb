{
 "cells": [
  {
   "cell_type": "code",
   "execution_count": 23,
   "metadata": {},
   "outputs": [],
   "source": [
    "import pyautogui as pg\n",
    "from selenium import webdriver\n",
    "from selenium.webdriver.common.keys import Keys\n",
    "from selenium.webdriver.firefox.options import Options as FirefoxOptions\n",
    "\n",
    "\n",
    "\n",
    "# options=FirefoxOptions()\n",
    "# options.add_argument(r'user-data-dir=C:\\\\Users\\\\IBM User\\\\AppData\\\\Local\\\\Mozilla\\\\Firefox\\\\Profiles\\\\2wsu6z12.default-release')\n",
    "# browser = webdriver.Firefox(options=options)\n",
    "# import time"
   ]
  },
  {
   "cell_type": "code",
   "execution_count": 8,
   "metadata": {},
   "outputs": [],
   "source": [
    "time.sleep(5)\n",
    "m=pg.locateOnScreen('screen.jpg')\n",
    "time.sleep(3)\n",
    "pg.moveTo(m)\n",
    "m=pg.locateOnScreen('bar.jpg')\n",
    "time.sleep(3)\n",
    "pg.moveTo(m)\n",
    "time.sleep(2)\n",
    "pg.click()\n",
    "time.sleep(2)\n",
    "for i in range(0,5):\n",
    "    pg.press('tab')\n",
    "pg.press('enter')\n",
    "time.sleep(2)"
   ]
  },
  {
   "cell_type": "code",
   "execution_count": 16,
   "metadata": {},
   "outputs": [
    {
     "name": "stdout",
     "output_type": "stream",
     "text": [
      "None\n",
      "None\n"
     ]
    }
   ],
   "source": [
    "time.sleep(5)\n",
    "for i in range(0,2):\n",
    "    m=pg.locateOnScreen('bar.jpg')\n",
    "    print(m)\n",
    "    time.sleep(3)\n",
    "    pg.moveTo(m)"
   ]
  },
  {
   "cell_type": "code",
   "execution_count": 29,
   "metadata": {},
   "outputs": [],
   "source": [
    "time.sleep(5)\n",
    "m=pg.locateOnScreen('bar.jpg')\n",
    "time.sleep(3)\n",
    "pg.moveTo(m)\n",
    "pg.press('enter')\n",
    "time.sleep(2)\n",
    "pg.click()\n",
    "time.sleep(2)\n",
    "for i in range(0,7):\n",
    "    pg.press('tab')\n",
    "pg.press('enter')\n",
    "time.sleep(2)\n",
    "time.sleep(2)\n",
    "time.sleep(5)\n",
    "n=pg.locateOnScreen('signin.jpg')\n",
    "pg.moveTo(n)\n",
    "pg.click()\n",
    "time.sleep(2)\n",
    "for i in range(0,2):\n",
    "    pg.press('tab')\n",
    "pg.press('enter')"
   ]
  },
  {
   "cell_type": "code",
   "execution_count": 41,
   "metadata": {},
   "outputs": [],
   "source": [
    "\n",
    "\n",
    "time.sleep(3)\n",
    "m=pg.locateOnScreen('bar.jpg')\n",
    "time.sleep(3)\n",
    "pg.moveTo(m)\n",
    "time.sleep(2)\n",
    "pg.click()\n",
    "time.sleep(3)\n",
    "for i in range(0,5):\n",
    "    \n",
    "    pg.press('tab')\n",
    "    time.sleep(1)\n",
    "    \n",
    "pg.press('enter')\n",
    "# n=pg.locateOnScreen('signin.jpg')\n",
    "# pg.moveTo(n)\n",
    "# pg.click()\n",
    "time.sleep(3)\n",
    "for i in range(0,6):\n",
    "    pg.press('tab')\n",
    "    time.sleep(1)    \n",
    "time.sleep(3)\n",
    "pg.press('enter')\n",
    "for i in range(0,6):\n",
    "    pg.press('tab')\n",
    "    time.sleep(2)    \n",
    "\n",
    "pg.press('enter')\n",
    "time.sleep(2)\n",
    "time.sleep(2)\n",
    "\n",
    "pg.press('enter')\n",
    "time.sleep(2)\n",
    "time.sleep(2)\n",
    "pg.press('tab')\n",
    "time.sleep(2)\n",
    "pg.typewrite(\"sjad\",interval=0.25)\n",
    "time.sleep(2)\n",
    "pg.press('tab')\n",
    "time.sleep(2)\n",
    "\n",
    "pg.typewrite(\"zyzsasfd\",interval=0.25)\n",
    "time.sleep(2)\n",
    "pg.press('enter')\n",
    "time.sleep(3)\n",
    "for i in range(0,3):\n",
    "    pg.press('tab')\n",
    "    time.sleep(2)\n",
    "pg.press('enter')\n",
    "time.sleep(2)\n",
    "pg.typewrite(\"p\")\n",
    "time.sleep(2)\n",
    "pg.press('enter')\n",
    "time.sleep(3)\n",
    "pg.typewrite(\"3211467783\",interval=0.25)\n",
    "time.sleep(2)\n",
    "pg.press('enter')"
   ]
  },
  {
   "cell_type": "markdown",
   "metadata": {},
   "source": [
    "###                        abc2\n",
    "        abc2zyz\n",
    "            abc2time.sleep(2)\n",
    "\n",
    "pg.press('enter')\n",
    "time.sleep(2)\n"
   ]
  },
  {
   "cell_type": "code",
   "execution_count": null,
   "metadata": {},
   "outputs": [],
   "source": []
  },
  {
   "cell_type": "code",
   "execution_count": 47,
   "metadata": {},
   "outputs": [],
   "source": [
    "time.sleep(2)\n",
    "pg.press('tab')\n",
    "time.sleep(2)\n",
    "pg.typewrite(\"abc2\")\n",
    "time.sleep(5)\n",
    "pg.press('tab')\n",
    "time.sleep(2)\n",
    "pg.typewrite(\"zyz\")\n",
    "time.sleep(2)\n",
    "pg.press('enter')"
   ]
  },
  {
   "cell_type": "code",
   "execution_count": 53,
   "metadata": {},
   "outputs": [],
   "source": [
    "time.sleep(2)\n",
    "for i in range(0,3):\n",
    "    pg.press('tab')\n",
    "    time.sleep(2)\n",
    "pg.press('enter')\n",
    "time.sleep(2)\n",
    "pg.typewrite(\"p\")\n",
    "time.sleep(2)\n",
    "pg.press('enter')\n",
    "time.sleep(5)\n",
    "pg.typewrite(\"3211467783\")\n",
    "time.sleep(2)\n",
    "pg.press('enter')"
   ]
  },
  {
   "cell_type": "code",
   "execution_count": 40,
   "metadata": {},
   "outputs": [],
   "source": [
    "for i in range(0,6):\n",
    "    pg.press('tab')\n",
    "    time.sleep(2)    \n",
    "090078602\n",
    "pg.press('enter')\n",
    "time.sleep(2)"
   ]
  },
  {
   "cell_type": "code",
   "execution_count": null,
   "metadata": {},
   "outputs": [],
   "source": []
  },
  {
   "cell_type": "code",
   "execution_count": null,
   "metadata": {},
   "outputs": [],
   "source": [
    "num_list = []\n",
    "\n",
    "with open('Login.txt', 'r') as fh:\n",
    "    for line in fh:\n",
    "        num_list.append(str(line))\n",
    "for i in num_list:\n",
    "    i=i.split(':')\n",
    "    user_name=i[0]\n",
    "    password=i[1]\n",
    "    print(user_name)\n",
    "    print(password)\n",
    "    time.sleep(3)\n",
    "    m=pg.locateOnScreen('vpn.png')\n",
    "    pg.moveTo(m)\n",
    "    pg.click()\n",
    "    time.sleep(2)\n",
    "    i=pg.locateOnScreen('import.png')\n",
    "    pg.moveTo(i)\n",
    "    pg.click()\n",
    "    #file=pg.locateOnScreen('be63.nordvpn.com.tcp443 (1)')\n",
    "    #time.sleep(2)\n",
    "    s=pg.locateOnScreen('search.png')\n",
    "    pg.moveTo(s)\n",
    "    pg.click()\n",
    "    time.sleep(2)\n",
    "    pg.typewrite(\"be63.nordvpn.com.tcp443 (1)\")\n",
    "    openFile=pg.locateOnScreen('open.png')\n",
    "    pg.moveTo(openFile)\n",
    "    pg.click()\n",
    "    time.sleep(2)\n",
    "    user=pg.locateOnScreen('username.png')\n",
    "    pg.moveTo(user)\n",
    "    pg.click()\n",
    "    pg.typewrite(user_name)\n",
    "    Add=pg.locateOnScreen('add.png')\n",
    "    pg.moveTo(Add)\n",
    "    pg.click()\n",
    "    time.sleep(4)\n",
    "    on=pg.locateOnScreen('on.png')\n",
    "    pg.moveTo(on)\n",
    "    pg.click()\n",
    "    pg.typewrite(password)\n",
    "    time.sleep(2)\n",
    "    ok=pg.locateOnScreen('ok.png')\n",
    "    pg.moveTo(ok)\n",
    "    pg.click()\n",
    "    time.sleep(2)\n",
    "    cont=pg.locateOnScreen('continue.png')\n",
    "    pg.moveTo(cont)\n",
    "    pg.click()"
   ]
  },
  {
   "cell_type": "code",
   "execution_count": 30,
   "metadata": {},
   "outputs": [],
   "source": [
    "time.sleep(7)\n",
    "for i in range(0,3):\n",
    "    pg.press('tab')\n",
    "    time.sleep(3)    \n",
    "time.sleep(5)\n",
    "pg.press('enter')"
   ]
  },
  {
   "cell_type": "code",
   "execution_count": null,
   "metadata": {},
   "outputs": [],
   "source": []
  }
 ],
 "metadata": {
  "kernelspec": {
   "display_name": "Python 3",
   "language": "python",
   "name": "python3"
  },
  "language_info": {
   "codemirror_mode": {
    "name": "ipython",
    "version": 3
   },
   "file_extension": ".py",
   "mimetype": "text/x-python",
   "name": "python",
   "nbconvert_exporter": "python",
   "pygments_lexer": "ipython3",
   "version": "3.7.6"
  }
 },
 "nbformat": 4,
 "nbformat_minor": 4
}
